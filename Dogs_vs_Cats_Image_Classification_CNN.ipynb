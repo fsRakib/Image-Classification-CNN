{
  "cells": [
    {
      "cell_type": "markdown",
      "metadata": {
        "id": "bXDCIEmcCMt8"
      },
      "source": [
        "## Dataset Information\n",
        "\n",
        "The training archive contains 25,000 images of dogs and cats. Train your algorithm on these files and predict the labels\n",
        "\n",
        "(1 = dog, 0 = cat).\n"
      ]
    },
    {
      "cell_type": "markdown",
      "metadata": {
        "id": "ZB5IQHhUKT7T"
      },
      "source": [
        "## Download Dataset\n"
      ]
    },
    {
      "cell_type": "code",
      "execution_count": 1,
      "metadata": {
        "colab": {
          "base_uri": "https://localhost:8080/"
        },
        "id": "iAALtdpKBYrM",
        "outputId": "0cfb8ccb-cfa0-47d8-c97d-9f61a356021a"
      },
      "outputs": [
        {
          "name": "stdout",
          "output_type": "stream",
          "text": [
            "Downloading kagglecatsanddogs_5340.zip...\n",
            "Download complete!\n"
          ]
        }
      ],
      "source": [
        "# Download the dataset using Python's urllib\n",
        "import urllib.request\n",
        "import os\n",
        "\n",
        "url = \"https://download.microsoft.com/download/3/e/1/3e1c3f21-ecdb-4869-8368-6deba77b919f/kagglecatsanddogs_5340.zip\"\n",
        "filename = \"kagglecatsanddogs_5340.zip\"\n",
        "\n",
        "if not os.path.exists(filename):\n",
        "    print(f\"Downloading {filename}...\")\n",
        "    urllib.request.urlretrieve(url, filename)\n",
        "    print(\"Download complete!\")\n",
        "else:\n",
        "    print(f\"{filename} already exists.\")"
      ]
    },
    {
      "cell_type": "markdown",
      "metadata": {
        "id": "50S0GF8TKn1b"
      },
      "source": [
        "## Unzip the Dataset\n"
      ]
    },
    {
      "cell_type": "code",
      "execution_count": 2,
      "metadata": {
        "id": "zN1nolOtKpjb"
      },
      "outputs": [
        {
          "name": "stdout",
          "output_type": "stream",
          "text": [
            "Extracting kagglecatsanddogs_5340.zip...\n",
            "Extraction complete!\n",
            "Extraction complete!\n"
          ]
        }
      ],
      "source": [
        "# Unzip the dataset using Python's zipfile\n",
        "import zipfile\n",
        "import os\n",
        "\n",
        "zip_filename = \"kagglecatsanddogs_5340.zip\"\n",
        "\n",
        "if os.path.exists(zip_filename):\n",
        "    print(f\"Extracting {zip_filename}...\")\n",
        "    with zipfile.ZipFile(zip_filename, 'r') as zip_ref:\n",
        "        zip_ref.extractall('.')\n",
        "    print(\"Extraction complete!\")\n",
        "else:\n",
        "    print(f\"{zip_filename} not found. Please download it first.\")"
      ]
    },
    {
      "cell_type": "markdown",
      "metadata": {
        "id": "__MdQF-7LwP8"
      },
      "source": [
        "## Import Modules\n"
      ]
    },
    {
      "cell_type": "code",
      "execution_count": 3,
      "metadata": {
        "id": "agTSewFILR9d"
      },
      "outputs": [],
      "source": [
        "import pandas as pd\n",
        "import numpy as np\n",
        "import matplotlib.pyplot as plt\n",
        "import warnings\n",
        "import os\n",
        "import tqdm\n",
        "import random\n",
        "from keras.preprocessing.image import load_img\n",
        "warnings.filterwarnings('ignore')"
      ]
    },
    {
      "cell_type": "markdown",
      "metadata": {
        "id": "EDc8xCH9MKh0"
      },
      "source": [
        "## Create Dataframe for Input and Output\n"
      ]
    },
    {
      "cell_type": "code",
      "execution_count": 4,
      "metadata": {
        "colab": {
          "base_uri": "https://localhost:8080/"
        },
        "id": "ypqh4GZVMJY9",
        "outputId": "4cd34de6-f83c-4851-b7af-0bedfa56b282"
      },
      "outputs": [
        {
          "name": "stdout",
          "output_type": "stream",
          "text": [
            "PetImages\\Cat\\0.jpg 0\n"
          ]
        }
      ],
      "source": [
        "input_path = []\n",
        "label = []\n",
        "\n",
        "for class_name in os.listdir(\"PetImages\"):\n",
        "    for path in os.listdir(\"PetImages/\"+class_name):\n",
        "        if class_name == 'Cat':\n",
        "            label.append(0)\n",
        "        else:\n",
        "            label.append(1)\n",
        "        input_path.append(os.path.join(\"PetImages\", class_name, path))\n",
        "print(input_path[0], label[0])"
      ]
    },
    {
      "cell_type": "code",
      "execution_count": 5,
      "metadata": {
        "colab": {
          "base_uri": "https://localhost:8080/",
          "height": 206
        },
        "id": "PytYivfoOLw0",
        "outputId": "7d28ff12-d115-41ae-9d57-3e7f6681e6f8"
      },
      "outputs": [
        {
          "data": {
            "text/html": [
              "<div>\n",
              "<style scoped>\n",
              "    .dataframe tbody tr th:only-of-type {\n",
              "        vertical-align: middle;\n",
              "    }\n",
              "\n",
              "    .dataframe tbody tr th {\n",
              "        vertical-align: top;\n",
              "    }\n",
              "\n",
              "    .dataframe thead th {\n",
              "        text-align: right;\n",
              "    }\n",
              "</style>\n",
              "<table border=\"1\" class=\"dataframe\">\n",
              "  <thead>\n",
              "    <tr style=\"text-align: right;\">\n",
              "      <th></th>\n",
              "      <th>images</th>\n",
              "      <th>label</th>\n",
              "    </tr>\n",
              "  </thead>\n",
              "  <tbody>\n",
              "    <tr>\n",
              "      <th>0</th>\n",
              "      <td>PetImages\\Dog\\8758.jpg</td>\n",
              "      <td>1</td>\n",
              "    </tr>\n",
              "    <tr>\n",
              "      <th>1</th>\n",
              "      <td>PetImages\\Cat\\7007.jpg</td>\n",
              "      <td>0</td>\n",
              "    </tr>\n",
              "    <tr>\n",
              "      <th>2</th>\n",
              "      <td>PetImages\\Dog\\61.jpg</td>\n",
              "      <td>1</td>\n",
              "    </tr>\n",
              "    <tr>\n",
              "      <th>3</th>\n",
              "      <td>PetImages\\Cat\\5613.jpg</td>\n",
              "      <td>0</td>\n",
              "    </tr>\n",
              "    <tr>\n",
              "      <th>4</th>\n",
              "      <td>PetImages\\Cat\\7700.jpg</td>\n",
              "      <td>0</td>\n",
              "    </tr>\n",
              "  </tbody>\n",
              "</table>\n",
              "</div>"
            ],
            "text/plain": [
              "                   images  label\n",
              "0  PetImages\\Dog\\8758.jpg      1\n",
              "1  PetImages\\Cat\\7007.jpg      0\n",
              "2    PetImages\\Dog\\61.jpg      1\n",
              "3  PetImages\\Cat\\5613.jpg      0\n",
              "4  PetImages\\Cat\\7700.jpg      0"
            ]
          },
          "execution_count": 5,
          "metadata": {},
          "output_type": "execute_result"
        }
      ],
      "source": [
        "df = pd.DataFrame()\n",
        "df['images'] = input_path\n",
        "df['label'] = label\n",
        "df = df.sample(frac=1).reset_index(drop=True)\n",
        "df.head()"
      ]
    },
    {
      "cell_type": "code",
      "execution_count": 6,
      "metadata": {
        "colab": {
          "base_uri": "https://localhost:8080/"
        },
        "id": "ZAzQsHojZiOF",
        "outputId": "e97082ae-d5b3-461a-c5c7-2d9ba8f35804"
      },
      "outputs": [
        {
          "name": "stdout",
          "output_type": "stream",
          "text": [
            "PetImages\\Cat\\Thumbs.db\n",
            "PetImages\\Dog\\Thumbs.db\n"
          ]
        }
      ],
      "source": [
        "for i in df['images']:\n",
        "    if '.jpg' not in i:\n",
        "        print(i)"
      ]
    },
    {
      "cell_type": "code",
      "execution_count": null,
      "metadata": {
        "colab": {
          "base_uri": "https://localhost:8080/"
        },
        "id": "W5rERkMQd7GV",
        "outputId": "be551ad1-1b00-406d-cff4-bdef642e4775"
      },
      "outputs": [],
      "source": [
        "import PIL\n",
        "l = []\n",
        "for image in df['images']:\n",
        "    try:\n",
        "        img = PIL.Image.open(image)\n",
        "    except:\n",
        "        l.append(image)\n",
        "l"
      ]
    },
    {
      "cell_type": "code",
      "execution_count": null,
      "metadata": {
        "colab": {
          "base_uri": "https://localhost:8080/"
        },
        "id": "qJmTLTloY0I0",
        "outputId": "5c904137-0dad-482e-d260-eb54b763f7c7"
      },
      "outputs": [],
      "source": [
        "# delete db files\n",
        "df = df[df['images']!='PetImages/Dog/Thumbs.db']\n",
        "df = df[df['images']!='PetImages/Cat/Thumbs.db']\n",
        "df = df[df['images']!='PetImages/Cat/666.jpg']\n",
        "df = df[df['images']!='PetImages/Dog/11702.jpg']\n",
        "len(df)"
      ]
    },
    {
      "cell_type": "markdown",
      "metadata": {
        "id": "HZeA2KVvO0XM"
      },
      "source": [
        "## Exploratory Data Analysis\n"
      ]
    },
    {
      "cell_type": "code",
      "execution_count": null,
      "metadata": {
        "colab": {
          "base_uri": "https://localhost:8080/",
          "height": 1000
        },
        "id": "VWyzFgHiObXE",
        "outputId": "e6f2a0b8-06ec-4099-f8fd-4478bd6ea9b7"
      },
      "outputs": [],
      "source": [
        "# to display grid of images\n",
        "plt.figure(figsize=(25,25))\n",
        "temp = df[df['label']==1]['images']\n",
        "start = random.randint(0, len(temp))\n",
        "files = temp[start:start+25]\n",
        "\n",
        "for index, file in enumerate(files):\n",
        "    plt.subplot(5,5, index+1)\n",
        "    img = load_img(file)\n",
        "    img = np.array(img)\n",
        "    plt.imshow(img)\n",
        "    plt.title('Dogs')\n",
        "    plt.axis('off')"
      ]
    },
    {
      "cell_type": "code",
      "execution_count": null,
      "metadata": {
        "colab": {
          "base_uri": "https://localhost:8080/",
          "height": 1000
        },
        "id": "ahs_1yPcQHan",
        "outputId": "0ea796d5-d553-40f3-d0e9-9150df979690"
      },
      "outputs": [],
      "source": [
        "# to display grid of images\n",
        "plt.figure(figsize=(25,25))\n",
        "temp = df[df['label']==0]['images']\n",
        "start = random.randint(0, len(temp))\n",
        "files = temp[start:start+25]\n",
        "\n",
        "for index, file in enumerate(files):\n",
        "    plt.subplot(5,5, index+1)\n",
        "    img = load_img(file)\n",
        "    img = np.array(img)\n",
        "    plt.imshow(img)\n",
        "    plt.title('Cats')\n",
        "    plt.axis('off')"
      ]
    },
    {
      "cell_type": "code",
      "execution_count": null,
      "metadata": {
        "colab": {
          "base_uri": "https://localhost:8080/",
          "height": 447
        },
        "id": "AIZWa_D8QhEk",
        "outputId": "914cd658-849f-4c78-a76b-b70c45a35e1c"
      },
      "outputs": [],
      "source": [
        "import seaborn as sns\n",
        "sns.countplot(df['label'])"
      ]
    },
    {
      "cell_type": "markdown",
      "metadata": {
        "id": "WwAEgK5fRLQV"
      },
      "source": [
        "## Create DataGenerator for the Images\n"
      ]
    },
    {
      "cell_type": "code",
      "execution_count": null,
      "metadata": {
        "id": "nTy0rl0tUTC0"
      },
      "outputs": [],
      "source": [
        "df['label'] = df['label'].astype('str')"
      ]
    },
    {
      "cell_type": "code",
      "execution_count": null,
      "metadata": {
        "colab": {
          "base_uri": "https://localhost:8080/",
          "height": 206
        },
        "id": "I82-vGT4Tpwj",
        "outputId": "b89b636e-68d7-48ea-b80c-6cf2c27700e2"
      },
      "outputs": [],
      "source": [
        "df.head()"
      ]
    },
    {
      "cell_type": "code",
      "execution_count": null,
      "metadata": {
        "id": "6-IU6KurXCKG"
      },
      "outputs": [],
      "source": [
        "# input split\n",
        "from sklearn.model_selection import train_test_split\n",
        "train, test = train_test_split(df, test_size=0.2, random_state=42)"
      ]
    },
    {
      "cell_type": "code",
      "execution_count": null,
      "metadata": {
        "colab": {
          "base_uri": "https://localhost:8080/"
        },
        "id": "dyudqxGEQg-W",
        "outputId": "17a57630-521a-4d2e-b5ef-746fb8d2253f"
      },
      "outputs": [],
      "source": [
        "# from keras.preprocessing.image import ImageDataGenerator\n",
        "from tensorflow.keras.preprocessing.image import ImageDataGenerator\n",
        "\n",
        "train_generator = ImageDataGenerator(\n",
        "    rescale = 1./255,  # normalization of images\n",
        "    rotation_range = 40, # augmention of images to avoid overfitting\n",
        "    shear_range = 0.2,\n",
        "    zoom_range = 0.2,\n",
        "    horizontal_flip = True,\n",
        "    fill_mode = 'nearest'\n",
        ")\n",
        "\n",
        "val_generator = ImageDataGenerator(rescale = 1./255)\n",
        "\n",
        "train_iterator = train_generator.flow_from_dataframe(\n",
        "    train,\n",
        "    x_col='images',\n",
        "    y_col='label',\n",
        "    target_size=(128,128),\n",
        "    batch_size=512,\n",
        "    class_mode='binary'\n",
        ")\n",
        "\n",
        "val_iterator = val_generator.flow_from_dataframe(\n",
        "    test,\n",
        "    x_col='images',\n",
        "    y_col='label',\n",
        "    target_size=(128,128),\n",
        "    batch_size=512,\n",
        "    class_mode='binary'\n",
        ")"
      ]
    },
    {
      "cell_type": "markdown",
      "metadata": {
        "id": "5vWhcfSbUl4H"
      },
      "source": [
        "## Model Creation\n"
      ]
    },
    {
      "cell_type": "code",
      "execution_count": null,
      "metadata": {
        "id": "8pFoHIXzQg8e"
      },
      "outputs": [],
      "source": [
        "from keras import Sequential\n",
        "from keras.layers import Conv2D, MaxPool2D, Flatten, Dense\n",
        "\n",
        "model = Sequential([\n",
        "                    Conv2D(16, (3,3), activation='relu', input_shape=(128,128,3)),\n",
        "                    MaxPool2D((2,2)),\n",
        "                    Conv2D(32, (3,3), activation='relu'),\n",
        "                    MaxPool2D((2,2)),\n",
        "                    Conv2D(64, (3,3), activation='relu'),\n",
        "                    MaxPool2D((2,2)),\n",
        "                    Flatten(),\n",
        "                    Dense(512, activation='relu'),\n",
        "                    Dense(1, activation='sigmoid')\n",
        "])"
      ]
    },
    {
      "cell_type": "code",
      "execution_count": null,
      "metadata": {
        "colab": {
          "base_uri": "https://localhost:8080/",
          "height": 442
        },
        "id": "b6BaM5JbQg6r",
        "outputId": "87d62a26-38ed-4c5c-f78c-2781c3173b9c"
      },
      "outputs": [],
      "source": [
        "model.compile(optimizer='adam', loss='binary_crossentropy', metrics=['accuracy'])\n",
        "model.summary()"
      ]
    },
    {
      "cell_type": "code",
      "execution_count": null,
      "metadata": {
        "colab": {
          "base_uri": "https://localhost:8080/"
        },
        "id": "98PbDSu2Qg4u",
        "outputId": "5a633844-4143-459f-8865-5b5d019840c9"
      },
      "outputs": [],
      "source": [
        "history = model.fit(train_iterator, epochs=10, validation_data=val_iterator)"
      ]
    },
    {
      "cell_type": "markdown",
      "metadata": {
        "id": "NoI0zxd1jxoV"
      },
      "source": [
        "## Visualization of Results\n"
      ]
    },
    {
      "cell_type": "code",
      "execution_count": null,
      "metadata": {
        "colab": {
          "base_uri": "https://localhost:8080/",
          "height": 887
        },
        "id": "pQq8pv1iQg2u",
        "outputId": "4962325f-8fa3-4458-cee2-0f2b94b51f08"
      },
      "outputs": [],
      "source": [
        "acc = history.history['accuracy']\n",
        "val_acc = history.history['val_accuracy']\n",
        "epochs = range(len(acc))\n",
        "\n",
        "plt.plot(epochs, acc, 'b', label='Training Accuracy')\n",
        "plt.plot(epochs, val_acc, 'r', label='Validation Accuracy')\n",
        "plt.title('Accuracy Graph')\n",
        "plt.legend()\n",
        "plt.figure()\n",
        "\n",
        "loss = history.history['loss']\n",
        "val_loss = history.history['val_loss']\n",
        "plt.plot(epochs, loss, 'b', label='Training Loss')\n",
        "plt.plot(epochs, val_loss, 'r', label='Validation Loss')\n",
        "plt.title('Loss Graph')\n",
        "plt.legend()\n",
        "plt.show()"
      ]
    },
    {
      "cell_type": "markdown",
      "metadata": {
        "id": "F8cqYQovQg0x"
      },
      "source": [
        "## Test with Real Image\n"
      ]
    },
    {
      "cell_type": "code",
      "execution_count": null,
      "metadata": {
        "colab": {
          "base_uri": "https://localhost:8080/"
        },
        "id": "20da44e2",
        "outputId": "8aa02153-8a13-4ee1-ba21-e7a9696d47fa"
      },
      "outputs": [],
      "source": [
        "# Use an image from the downloaded dataset for testing\n",
        "image_path = \"/content/dog2.jpg\"  # Using the first image from the dataframe\n",
        "img = load_img(image_path, target_size=(128, 128))\n",
        "img = np.array(img)\n",
        "img = img / 255.0 # normalize the image\n",
        "img = img.reshape(1, 128, 128, 3) # reshape for prediction\n",
        "pred = model.predict(img)\n",
        "if pred[0] > 0.5:\n",
        "    label = 'Dog'\n",
        "else:\n",
        "    label = 'Cat'\n",
        "print(f\"The image is predicted to be a: {label}\")"
      ]
    },
    {
      "cell_type": "code",
      "execution_count": null,
      "metadata": {
        "colab": {
          "base_uri": "https://localhost:8080/"
        },
        "id": "_E07ND7yQgv3",
        "outputId": "4cd191cd-0b33-4c58-c0a6-b8811616cd52"
      },
      "outputs": [],
      "source": [
        "# Use an image from the downloaded dataset for testing\n",
        "image_path = \"/content/cat.jpeg\"  # Using the first image from the dataframe\n",
        "img = load_img(image_path, target_size=(128, 128))\n",
        "img = np.array(img)\n",
        "img = img / 255.0 # normalize the image\n",
        "img = img.reshape(1, 128, 128, 3) # reshape for prediction\n",
        "pred = model.predict(img)\n",
        "if pred[0] > 0.5:\n",
        "    label = 'Dog'\n",
        "else:\n",
        "    label = 'Cat'\n",
        "print(f\"The image is predicted to be a: {label}\")"
      ]
    },
    {
      "cell_type": "code",
      "execution_count": null,
      "metadata": {
        "id": "dKQ5LQJBQgtn"
      },
      "outputs": [],
      "source": []
    }
  ],
  "metadata": {
    "accelerator": "GPU",
    "colab": {
      "gpuType": "T4",
      "provenance": []
    },
    "kernelspec": {
      "display_name": ".venv",
      "language": "python",
      "name": "python3"
    },
    "language_info": {
      "codemirror_mode": {
        "name": "ipython",
        "version": 3
      },
      "file_extension": ".py",
      "mimetype": "text/x-python",
      "name": "python",
      "nbconvert_exporter": "python",
      "pygments_lexer": "ipython3",
      "version": "3.13.9"
    }
  },
  "nbformat": 4,
  "nbformat_minor": 0
}
